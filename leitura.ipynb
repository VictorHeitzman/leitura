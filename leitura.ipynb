{
 "cells": [
  {
   "cell_type": "code",
   "execution_count": 1,
   "metadata": {},
   "outputs": [],
   "source": [
    "# IMPORTANDO BIBLÍOTECA\n",
    "import pandas as pd "
   ]
  },
  {
   "cell_type": "code",
   "execution_count": 2,
   "metadata": {},
   "outputs": [],
   "source": [
    "# POSIÇÃO DOS CARACTERES INICIAIS E FINAIS PARA LER\n",
    "colspecs = [                \n",
    "    (0,7), #peso\n",
    "    (7,22), #padrao\n",
    "    (20,42), # fardo\n",
    "    (44,50), #area\n",
    "    (48,57), #uhm\n",
    "    (57,64), #uniform\n",
    "    (63,70), # fc\n",
    "    (70,77), #resist\n",
    "    (77,82), # +B\n",
    "    (82,87), #cor\n",
    "    (87,90), # maq\n",
    "    (90,96), # maturid\n",
    "    (96,104), #sci\n",
    "    (104,111), # rd\n",
    "    (111,117), #micron\n",
    "    (117,123), # along\n",
    "    (123,129), # leaf\n",
    "    (129,138) # csp\n",
    "    ]\n",
    "\n",
    "# CABEÇALHOS\n",
    "names = ['peso','padrao','fardo','area','uhm','uniform','fc','resist','\"+B\"','cor','maq','maturid','sci','rd','micron','along','leaf','csp']\n",
    "\n",
    "\n",
    "# CRIANDO DATAFRAME\n",
    "df = pd.read_fwf('txt_loop_de_dados.txt',colspecs=colspecs, names=names)\n"
   ]
  },
  {
   "cell_type": "code",
   "execution_count": null,
   "metadata": {},
   "outputs": [],
   "source": [
    "# APRESENTANDO DATAFRAME\n",
    "df "
   ]
  },
  {
   "cell_type": "code",
   "execution_count": 19,
   "metadata": {},
   "outputs": [],
   "source": [
    "# SALVAMDO DATAFRAME EM CVS\n",
    "df.to_csv('create_df_txt.csv',encoding='utf-8') "
   ]
  }
 ],
 "metadata": {
  "kernelspec": {
   "display_name": "Python 3",
   "language": "python",
   "name": "python3"
  },
  "language_info": {
   "codemirror_mode": {
    "name": "ipython",
    "version": 3
   },
   "file_extension": ".py",
   "mimetype": "text/x-python",
   "name": "python",
   "nbconvert_exporter": "python",
   "pygments_lexer": "ipython3",
   "version": "3.11.3"
  },
  "orig_nbformat": 4
 },
 "nbformat": 4,
 "nbformat_minor": 2
}
